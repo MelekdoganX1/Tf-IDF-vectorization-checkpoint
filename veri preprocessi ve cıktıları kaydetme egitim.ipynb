{
 "cells": [
  {
   "cell_type": "markdown",
   "id": "c80345e0-12c8-4bdd-a48c-bbfd5c347ea8",
   "metadata": {},
   "source": [
    "!pip install nltk\n"
   ]
  },
  {
   "cell_type": "code",
   "execution_count": 16,
   "id": "04af911c-7f84-4fe3-af35-54112a96fb7f",
   "metadata": {},
   "outputs": [
    {
     "name": "stderr",
     "output_type": "stream",
     "text": [
      "[nltk_data] Downloading package punkt to\n",
      "[nltk_data]     C:\\Users\\melek\\AppData\\Roaming\\nltk_data...\n",
      "[nltk_data]   Package punkt is already up-to-date!\n",
      "[nltk_data] Downloading package stopwords to\n",
      "[nltk_data]     C:\\Users\\melek\\AppData\\Roaming\\nltk_data...\n",
      "[nltk_data]   Package stopwords is already up-to-date!\n",
      "[nltk_data] Downloading package wordnet to\n",
      "[nltk_data]     C:\\Users\\melek\\AppData\\Roaming\\nltk_data...\n",
      "[nltk_data]   Package wordnet is already up-to-date!\n"
     ]
    },
    {
     "data": {
      "text/plain": [
       "True"
      ]
     },
     "execution_count": 16,
     "metadata": {},
     "output_type": "execute_result"
    }
   ],
   "source": [
    "\n",
    "import nltk\n",
    "nltk.download('punkt')\n",
    "nltk.download('stopwords')\n",
    "nltk.download('wordnet')\n",
    "\n"
   ]
  },
  {
   "cell_type": "code",
   "execution_count": 17,
   "id": "8aa625b4-0450-47ba-9ed0-6d54a5956c79",
   "metadata": {},
   "outputs": [],
   "source": [
    "\n",
    "import nltk\n",
    "from nltk.tokenize import word_tokenize, sent_tokenize\n",
    "from nltk.corpus import stopwords\n",
    "from nltk.stem import WordNetLemmatizer, PorterStemmer\n",
    "from nltk.tokenize import sent_tokenize\n",
    "from nltk.tokenize import sent_tokenize\n",
    "\n",
    "import csv\n"
   ]
  },
  {
   "cell_type": "code",
   "execution_count": 18,
   "id": "9a39358f-40ba-439c-a8c9-076257803ae0",
   "metadata": {},
   "outputs": [],
   "source": [
    "import pandas as pd\n",
    "import re\n",
    "import string"
   ]
  },
  {
   "cell_type": "code",
   "execution_count": 19,
   "id": "788a9420-c9ed-4ade-a46c-912507b0bc44",
   "metadata": {},
   "outputs": [
    {
     "data": {
      "text/html": [
       "<div>\n",
       "<style scoped>\n",
       "    .dataframe tbody tr th:only-of-type {\n",
       "        vertical-align: middle;\n",
       "    }\n",
       "\n",
       "    .dataframe tbody tr th {\n",
       "        vertical-align: top;\n",
       "    }\n",
       "\n",
       "    .dataframe thead th {\n",
       "        text-align: right;\n",
       "    }\n",
       "</style>\n",
       "<table border=\"1\" class=\"dataframe\">\n",
       "  <thead>\n",
       "    <tr style=\"text-align: right;\">\n",
       "      <th></th>\n",
       "      <th>Question</th>\n",
       "      <th>Key_Answer</th>\n",
       "      <th>Student_Answer</th>\n",
       "      <th>Label</th>\n",
       "    </tr>\n",
       "  </thead>\n",
       "  <tbody>\n",
       "    <tr>\n",
       "      <th>0</th>\n",
       "      <td>Explain how gravity affects objects on Earth.</td>\n",
       "      <td>Gravity pulls objects toward the center of the...</td>\n",
       "      <td>Gravity keeps us on the ground and makes thing...</td>\n",
       "      <td>correct</td>\n",
       "    </tr>\n",
       "    <tr>\n",
       "      <th>1</th>\n",
       "      <td>Describe the function of the heart in the huma...</td>\n",
       "      <td>The heart pumps blood throughout the body, sup...</td>\n",
       "      <td>It moves blood around so the body gets what it...</td>\n",
       "      <td>correct</td>\n",
       "    </tr>\n",
       "    <tr>\n",
       "      <th>2</th>\n",
       "      <td>Why is recycling important?</td>\n",
       "      <td>Recycling reduces waste, conserves resources, ...</td>\n",
       "      <td>It helps the Earth and stops trash from piling...</td>\n",
       "      <td>correct</td>\n",
       "    </tr>\n",
       "    <tr>\n",
       "      <th>3</th>\n",
       "      <td>Explain how gravity affects objects on Earth.</td>\n",
       "      <td>Gravity pulls objects toward the center of the...</td>\n",
       "      <td>Gravity keeps us on the ground and makes thing...</td>\n",
       "      <td>correct</td>\n",
       "    </tr>\n",
       "    <tr>\n",
       "      <th>4</th>\n",
       "      <td>Why is recycling important?</td>\n",
       "      <td>Recycling reduces waste, conserves resources, ...</td>\n",
       "      <td>It helps the Earth and stops trash from piling...</td>\n",
       "      <td>correct</td>\n",
       "    </tr>\n",
       "  </tbody>\n",
       "</table>\n",
       "</div>"
      ],
      "text/plain": [
       "                                            Question  \\\n",
       "0      Explain how gravity affects objects on Earth.   \n",
       "1  Describe the function of the heart in the huma...   \n",
       "2                        Why is recycling important?   \n",
       "3      Explain how gravity affects objects on Earth.   \n",
       "4                        Why is recycling important?   \n",
       "\n",
       "                                          Key_Answer  \\\n",
       "0  Gravity pulls objects toward the center of the...   \n",
       "1  The heart pumps blood throughout the body, sup...   \n",
       "2  Recycling reduces waste, conserves resources, ...   \n",
       "3  Gravity pulls objects toward the center of the...   \n",
       "4  Recycling reduces waste, conserves resources, ...   \n",
       "\n",
       "                                      Student_Answer    Label  \n",
       "0  Gravity keeps us on the ground and makes thing...  correct  \n",
       "1  It moves blood around so the body gets what it...  correct  \n",
       "2  It helps the Earth and stops trash from piling...  correct  \n",
       "3  Gravity keeps us on the ground and makes thing...  correct  \n",
       "4  It helps the Earth and stops trash from piling...  correct  "
      ]
     },
     "execution_count": 19,
     "metadata": {},
     "output_type": "execute_result"
    }
   ],
   "source": [
    "df = pd.read_csv(\"C:/Users/melek/Downloads/large_student_answer_dataset.csv\")\n",
    "df.head()"
   ]
  },
  {
   "cell_type": "code",
   "execution_count": 50,
   "id": "e5e7f228-6aa1-4f5f-ae8b-de5508555cc4",
   "metadata": {},
   "outputs": [],
   "source": [
    "# Metin örneğimiz\n",
    "text = \"Gravity keeps us on the ground. It affects all objects on Earth.\"\n",
    "\n",
    "# Cümlelere böl\n",
    "sentences = sent_tokenize(text)"
   ]
  },
  {
   "cell_type": "code",
   "execution_count": 25,
   "id": "fdacbca5-bcd6-4df3-bc6b-acf101bd8c85",
   "metadata": {},
   "outputs": [
    {
     "name": "stdout",
     "output_type": "stream",
     "text": [
      "['is', \"she'll\", 's', 'those', 'so', 'yours', 'they', 'our', 'over', 'under', 'these', 'wouldn', \"it'd\", 'before', 'of', 'o', 'that', 'about', 'theirs', 'why', 'a', \"i'll\", 'd', 'am', 'more', \"mustn't\", 'yourself', \"they'll\", \"hadn't\", 'against', 'with', \"wasn't\", 'not', 'after', 'couldn', \"needn't\", 'ours', \"she'd\", 'shouldn', \"they've\", \"don't\", 'same', 'should', 'herself', 'there', 'above', 'have', 'me', 'for', \"isn't\"]\n"
     ]
    }
   ],
   "source": [
    "# Stopwords listesini almak\n",
    "stop_words = set(stopwords.words('english')) # Stopwords listesini turkce almak␣\n",
    "\n",
    "stop_words_list = list(stop_words)\n",
    "print(stop_words_list[:50])\n",
    "\n"
   ]
  },
  {
   "cell_type": "markdown",
   "id": "bb40e49d-d1d4-43b5-839e-d93d8c205d4b",
   "metadata": {},
   "source": [
    "# Lemmatizer ve Stemmer'ı başlat\n",
    "lemmatizer = WordNetLemmatizer()\n",
    "stemmer = PorterStemmer()\n"
   ]
  },
  {
   "cell_type": "code",
   "execution_count": 29,
   "id": "a3ebab53-dece-4630-bcd8-e06b75d265c5",
   "metadata": {},
   "outputs": [],
   "source": [
    "# Kelimeleri tokenleştirip, lemmatize etme ve stemleme\n",
    "def preprocess_sentence(sentence):\n",
    "    tokens = word_tokenize(sentence)  # Cümleyi kelimelere ayır\n",
    "    # Sadece harf olan kelimeleri al ve stopword'leri çıkar\n",
    "    filtered_tokens = [token.lower() for token in tokens if token.isalpha() and token.lower() not in stop_words]\n",
    "    \n",
    "    lemmatized_tokens = [lemmatizer.lemmatize(token) for token in filtered_tokens]  # Lemmatize etme\n",
    "    stemmed_tokens = [stemmer.stem(token) for token in filtered_tokens]  # Stemleme\n",
    "    \n",
    "    return lemmatized_tokens, stemmed_tokens"
   ]
  },
  {
   "cell_type": "code",
   "execution_count": 30,
   "id": "876dcd60-a680-4f0b-8cae-55c69ff7d46f",
   "metadata": {},
   "outputs": [],
   "source": [
    "# Her cümleyi tokenleştir, lemmatize et ve stemle\n",
    "tokenized_corpus_lemmatized = []\n",
    "tokenized_corpus_stemmed = []"
   ]
  },
  {
   "cell_type": "code",
   "execution_count": 39,
   "id": "b807a459-42ed-4681-876c-34d80c67e738",
   "metadata": {},
   "outputs": [
    {
     "name": "stderr",
     "output_type": "stream",
     "text": [
      "[nltk_data] Downloading package punkt to\n",
      "[nltk_data]     C:\\Users\\melek\\AppData\\Roaming\\nltk_data...\n",
      "[nltk_data]   Package punkt is already up-to-date!\n",
      "[nltk_data] Downloading package punkt_tab to\n",
      "[nltk_data]     C:\\Users\\melek\\AppData\\Roaming\\nltk_data...\n",
      "[nltk_data]   Unzipping tokenizers\\punkt_tab.zip.\n"
     ]
    },
    {
     "data": {
      "text/plain": [
       "True"
      ]
     },
     "execution_count": 39,
     "metadata": {},
     "output_type": "execute_result"
    }
   ],
   "source": [
    "import nltk\n",
    "nltk.download('punkt')\n",
    "nltk.download('punkt_tab')  # Bu eksik olan\n"
   ]
  },
  {
   "cell_type": "code",
   "execution_count": 40,
   "id": "d4281ad5-5087-4b6a-b2ea-18c71c767fb2",
   "metadata": {},
   "outputs": [
    {
     "name": "stdout",
     "output_type": "stream",
     "text": [
      "['Gravity keeps us on the ground.', 'It affects all objects on Earth.']\n"
     ]
    },
    {
     "name": "stderr",
     "output_type": "stream",
     "text": [
      "[nltk_data] Downloading package punkt to\n",
      "[nltk_data]     C:\\Users\\melek\\AppData\\Roaming\\nltk_data...\n",
      "[nltk_data]   Package punkt is already up-to-date!\n"
     ]
    }
   ],
   "source": [
    "from nltk.tokenize import sent_tokenize\n",
    "import nltk\n",
    "\n",
    "nltk.download('punkt')  # Ana model\n",
    "\n",
    "text = \"Gravity keeps us on the ground. It affects all objects on Earth.\"\n",
    "sentences = sent_tokenize(text, language=\"english\")\n",
    "print(sentences)\n"
   ]
  },
  {
   "cell_type": "code",
   "execution_count": 41,
   "id": "9d74a2bd-e27f-4498-8e47-fe6c92c59fd7",
   "metadata": {},
   "outputs": [],
   "source": [
    "# Kelimeleri tokenleştirip, lemmatize etme ve stemleme\n",
    "def preprocess_sentence(sentence):\n",
    "    tokens = word_tokenize(sentence)  # Cümleyi kelimelere ayır\n",
    "    # Sadece harf olan kelimeleri al ve stopword'leri çıkar\n",
    "    filtered_tokens = [token.lower() for token in tokens if token.isalpha() and token.lower() not in stop_words]\n",
    "    \n",
    "    lemmatized_tokens = [lemmatizer.lemmatize(token) for token in filtered_tokens]  # Lemmatize etme\n",
    "    stemmed_tokens = [stemmer.stem(token) for token in filtered_tokens]  # Stemleme\n",
    "    \n",
    "    return lemmatized_tokens, stemmed_tokens"
   ]
  },
  {
   "cell_type": "code",
   "execution_count": 42,
   "id": "4a1cc8f6-9368-4029-a87b-e77dd18bc601",
   "metadata": {},
   "outputs": [],
   "source": [
    "# lemmatize edılmıs cumlelerı bır csv dosyasına kaydedın.\n",
    "with open(\"lemmatized_sentences.csv\", mode=\"w\", newline=\"\", encoding=\"utf-8\") as file:\n",
    "    writer = csv.writer(file)\n",
    "\n",
    "    # Her cümleyi bir satır olarak yaz\n",
    "    for tokens in tokenized_corpus_lemmatized:\n",
    "        writer.writerow([' '.join(tokens)])"
   ]
  },
  {
   "cell_type": "code",
   "execution_count": 43,
   "id": "097f62cc-7967-41eb-8c64-05ef782f8262",
   "metadata": {},
   "outputs": [],
   "source": [
    "# Stem edılmıs cumlelerı bır csv dosyasına kaydedın.\n",
    "with open(\"stemmed_sentences.csv\", mode=\"w\", newline=\"\", encoding=\"utf-8\") as file:\n",
    "    writer = csv.writer(file)\n",
    "\n",
    "    # Her cümleyi bir satır olarak yaz\n",
    "    for tokens in tokenized_corpus_stemmed:\n",
    "        writer.writerow([' '.join(tokens)])"
   ]
  },
  {
   "cell_type": "code",
   "execution_count": 45,
   "id": "8f8708a4-2a2c-440d-a36e-964203da1645",
   "metadata": {},
   "outputs": [
    {
     "name": "stdout",
     "output_type": "stream",
     "text": [
      "Cümle sayısı: 2\n",
      "Lemmatized token sayısı: 0\n",
      "Stemmed token sayısı: 0\n"
     ]
    }
   ],
   "source": [
    "print(\"Cümle sayısı:\", len(sentences))\n",
    "print(\"Lemmatized token sayısı:\", len(tokenized_corpus_lemmatized))\n",
    "print(\"Stemmed token sayısı:\", len(tokenized_corpus_stemmed))\n"
   ]
  },
  {
   "cell_type": "code",
   "execution_count": 48,
   "id": "4189569a-d352-4be7-93e9-e5993289c85a",
   "metadata": {},
   "outputs": [
    {
     "name": "stdout",
     "output_type": "stream",
     "text": [
      "İlk 3 cümle:\n",
      "['Gravity keeps us on the ground.', 'It affects all objects on Earth.']\n"
     ]
    }
   ],
   "source": [
    "print(\"İlk 3 cümle:\")\n",
    "print(sentences[:3])\n"
   ]
  },
  {
   "cell_type": "code",
   "execution_count": 52,
   "id": "a8beac05-e77b-450f-be6f-d39863d3ef5b",
   "metadata": {},
   "outputs": [
    {
     "name": "stdout",
     "output_type": "stream",
     "text": [
      "Cümle 1 - Base: Gravity keeps us on the ground.\n"
     ]
    },
    {
     "ename": "IndexError",
     "evalue": "list index out of range",
     "output_type": "error",
     "traceback": [
      "\u001b[1;31m---------------------------------------------------------------------------\u001b[0m",
      "\u001b[1;31mIndexError\u001b[0m                                Traceback (most recent call last)",
      "Cell \u001b[1;32mIn[52], line 4\u001b[0m\n\u001b[0;32m      2\u001b[0m \u001b[38;5;28;01mfor\u001b[39;00m i \u001b[38;5;129;01min\u001b[39;00m \u001b[38;5;28mrange\u001b[39m(\u001b[38;5;241m2\u001b[39m):\n\u001b[0;32m      3\u001b[0m     \u001b[38;5;28mprint\u001b[39m(\u001b[38;5;124mf\u001b[39m\u001b[38;5;124m\"\u001b[39m\u001b[38;5;124mCümle \u001b[39m\u001b[38;5;132;01m{\u001b[39;00mi\u001b[38;5;241m+\u001b[39m\u001b[38;5;241m1\u001b[39m\u001b[38;5;132;01m}\u001b[39;00m\u001b[38;5;124m - Base: \u001b[39m\u001b[38;5;132;01m{\u001b[39;00msentences[i]\u001b[38;5;132;01m}\u001b[39;00m\u001b[38;5;124m\"\u001b[39m)\n\u001b[1;32m----> 4\u001b[0m     \u001b[38;5;28mprint\u001b[39m(\u001b[38;5;124mf\u001b[39m\u001b[38;5;124m\"\u001b[39m\u001b[38;5;124mCümle \u001b[39m\u001b[38;5;132;01m{\u001b[39;00mi\u001b[38;5;241m+\u001b[39m\u001b[38;5;241m1\u001b[39m\u001b[38;5;132;01m}\u001b[39;00m\u001b[38;5;124m - Lemmatized: \u001b[39m\u001b[38;5;132;01m{\u001b[39;00mtokenized_corpus_lemmatized[i]\u001b[38;5;132;01m}\u001b[39;00m\u001b[38;5;124m\"\u001b[39m)\n\u001b[0;32m      5\u001b[0m     \u001b[38;5;28mprint\u001b[39m(\u001b[38;5;124mf\u001b[39m\u001b[38;5;124m\"\u001b[39m\u001b[38;5;124mCümle \u001b[39m\u001b[38;5;132;01m{\u001b[39;00mi\u001b[38;5;241m+\u001b[39m\u001b[38;5;241m1\u001b[39m\u001b[38;5;132;01m}\u001b[39;00m\u001b[38;5;124m - Stemmed: \u001b[39m\u001b[38;5;132;01m{\u001b[39;00mtokenized_corpus_stemmed[i]\u001b[38;5;132;01m}\u001b[39;00m\u001b[38;5;124m\"\u001b[39m)\n\u001b[0;32m      6\u001b[0m     \u001b[38;5;28mprint\u001b[39m(\u001b[38;5;124m\"\u001b[39m\u001b[38;5;130;01m\\n\u001b[39;00m\u001b[38;5;124m\"\u001b[39m)\n",
      "\u001b[1;31mIndexError\u001b[0m: list index out of range"
     ]
    }
   ],
   "source": [
    "# İlk 5 cümleyi yazdıralım\n",
    "for i in range(2):\n",
    "    print(f\"Cümle {i+1} - Base: {sentences[i]}\")\n",
    "    print(f\"Cümle {i+1} - Lemmatized: {tokenized_corpus_lemmatized[i]}\")\n",
    "    print(f\"Cümle {i+1} - Stemmed: {tokenized_corpus_stemmed[i]}\")\n",
    "    print(\"\\n\")"
   ]
  },
  {
   "cell_type": "code",
   "execution_count": null,
   "id": "a9031832-3a82-423c-be44-ad74acc4bbe6",
   "metadata": {},
   "outputs": [],
   "source": []
  }
 ],
 "metadata": {
  "kernelspec": {
   "display_name": "Python 3 (ipykernel)",
   "language": "python",
   "name": "python3"
  },
  "language_info": {
   "codemirror_mode": {
    "name": "ipython",
    "version": 3
   },
   "file_extension": ".py",
   "mimetype": "text/x-python",
   "name": "python",
   "nbconvert_exporter": "python",
   "pygments_lexer": "ipython3",
   "version": "3.12.7"
  }
 },
 "nbformat": 4,
 "nbformat_minor": 5
}
